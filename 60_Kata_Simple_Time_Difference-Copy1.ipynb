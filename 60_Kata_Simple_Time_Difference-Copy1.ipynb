{
 "cells": [
  {
   "cell_type": "markdown",
   "metadata": {},
   "source": [
    "# Simple time difference"
   ]
  },
  {
   "cell_type": "raw",
   "metadata": {},
   "source": [
    "In this Kata, you will be given a series of times at which an alarm goes off. Your task will be to determine the maximum time interval between alarms. Each alarm starts ringing at the beginning of the corresponding minute and rings for exactly one minute. The times in the array are not in chronological order. Ignore duplicate times, if any.\n",
    "\n"
   ]
  },
  {
   "cell_type": "code",
   "execution_count": 1,
   "metadata": {},
   "outputs": [],
   "source": [
    "def solve(arr):\n",
    "    pass"
   ]
  },
  {
   "cell_type": "raw",
   "metadata": {},
   "source": [
    "For example:\n",
    "solve([\"14:51\"]) = \"23:59\". If the alarm goes off now, it will not go off for another 23 hours and 59 minutes.\n",
    "solve([\"23:00\",\"04:22\",\"18:05\",\"06:24\"]) == \"11:40\". The max interval that the alarm will not go off is 11 hours and 40 minutes."
   ]
  },
  {
   "cell_type": "markdown",
   "metadata": {},
   "source": [
    "# My Code"
   ]
  },
  {
   "cell_type": "code",
   "execution_count": 50,
   "metadata": {},
   "outputs": [
    {
     "data": {
      "text/plain": [
       "['23:00', '04:22', '18:05', '06:24']"
      ]
     },
     "execution_count": 50,
     "metadata": {},
     "output_type": "execute_result"
    }
   ],
   "source": [
    "arr = [\"23:00\",\"04:22\",\"18:05\",\"06:24\"]\n",
    "arr"
   ]
  },
  {
   "cell_type": "code",
   "execution_count": 150,
   "metadata": {},
   "outputs": [
    {
     "data": {
      "text/plain": [
       "5"
      ]
     },
     "execution_count": 150,
     "metadata": {},
     "output_type": "execute_result"
    }
   ],
   "source": [
    "len(arr)"
   ]
  },
  {
   "cell_type": "code",
   "execution_count": 151,
   "metadata": {},
   "outputs": [
    {
     "data": {
      "text/plain": [
       "str"
      ]
     },
     "execution_count": 151,
     "metadata": {},
     "output_type": "execute_result"
    }
   ],
   "source": [
    "type(arr[0])"
   ]
  },
  {
   "cell_type": "code",
   "execution_count": 152,
   "metadata": {},
   "outputs": [
    {
     "data": {
      "text/plain": [
       "'15:34'"
      ]
     },
     "execution_count": 152,
     "metadata": {},
     "output_type": "execute_result"
    }
   ],
   "source": [
    "arr[1]"
   ]
  },
  {
   "cell_type": "code",
   "execution_count": 15,
   "metadata": {},
   "outputs": [
    {
     "name": "stdout",
     "output_type": "stream",
     "text": [
      "None\n"
     ]
    }
   ],
   "source": [
    "new_arr = arr.sort()\n",
    "print(new_arr)"
   ]
  },
  {
   "cell_type": "code",
   "execution_count": 13,
   "metadata": {},
   "outputs": [],
   "source": [
    "# A good try\n",
    "# n_arr = arr.sort(key = int)\n",
    "# n_arr"
   ]
  },
  {
   "cell_type": "code",
   "execution_count": 42,
   "metadata": {},
   "outputs": [
    {
     "data": {
      "text/plain": [
       "datetime.datetime(1900, 1, 1, 4, 22)"
      ]
     },
     "execution_count": 42,
     "metadata": {},
     "output_type": "execute_result"
    }
   ],
   "source": [
    "import datetime as dt\n",
    "\n",
    "time_obj_1 = dt.datetime.strptime(arr[1], '%H:%M')\n",
    "time_obj_1"
   ]
  },
  {
   "cell_type": "code",
   "execution_count": 43,
   "metadata": {},
   "outputs": [
    {
     "data": {
      "text/plain": [
       "datetime.datetime(1900, 1, 1, 6, 24)"
      ]
     },
     "execution_count": 43,
     "metadata": {},
     "output_type": "execute_result"
    }
   ],
   "source": [
    "time_obj_2 = dt.datetime.strptime(arr[3], '%H:%M')\n",
    "time_obj_2"
   ]
  },
  {
   "cell_type": "code",
   "execution_count": 44,
   "metadata": {},
   "outputs": [
    {
     "data": {
      "text/plain": [
       "datetime.timedelta(0, 7320)"
      ]
     },
     "execution_count": 44,
     "metadata": {},
     "output_type": "execute_result"
    }
   ],
   "source": [
    "t = time_obj_2 - time_obj_1\n",
    "t"
   ]
  },
  {
   "cell_type": "code",
   "execution_count": 22,
   "metadata": {},
   "outputs": [
    {
     "data": {
      "text/plain": [
       "'datetime.timedelta(0, 7320)'"
      ]
     },
     "execution_count": 22,
     "metadata": {},
     "output_type": "execute_result"
    }
   ],
   "source": [
    "repr(t)"
   ]
  },
  {
   "cell_type": "code",
   "execution_count": 20,
   "metadata": {},
   "outputs": [
    {
     "data": {
      "text/plain": [
       "122.0"
      ]
     },
     "execution_count": 20,
     "metadata": {},
     "output_type": "execute_result"
    }
   ],
   "source": [
    "(time_obj_2 - time_obj_1).seconds/60 "
   ]
  },
  {
   "cell_type": "code",
   "execution_count": 28,
   "metadata": {},
   "outputs": [],
   "source": [
    "#print('hour:', t.hour)"
   ]
  },
  {
   "cell_type": "code",
   "execution_count": 29,
   "metadata": {},
   "outputs": [],
   "source": [
    "#print(t.strftime(\"%H:%M\"))"
   ]
  },
  {
   "cell_type": "code",
   "execution_count": 36,
   "metadata": {},
   "outputs": [
    {
     "data": {
      "text/plain": [
       "datetime.timedelta(0, 7320)"
      ]
     },
     "execution_count": 36,
     "metadata": {},
     "output_type": "execute_result"
    }
   ],
   "source": [
    "t"
   ]
  },
  {
   "cell_type": "code",
   "execution_count": 39,
   "metadata": {},
   "outputs": [
    {
     "ename": "TypeError",
     "evalue": "descriptor 'strftime' requires a 'datetime.date' object but received a 'datetime.timedelta'",
     "output_type": "error",
     "traceback": [
      "\u001b[0;31m---------------------------------------------------------------------------\u001b[0m",
      "\u001b[0;31mTypeError\u001b[0m                                 Traceback (most recent call last)",
      "\u001b[0;32m<ipython-input-39-ca367e344e84>\u001b[0m in \u001b[0;36m<module>\u001b[0;34m\u001b[0m\n\u001b[0;32m----> 1\u001b[0;31m \u001b[0mnew_t\u001b[0m \u001b[0;34m=\u001b[0m \u001b[0mdt\u001b[0m\u001b[0;34m.\u001b[0m\u001b[0mdatetime\u001b[0m\u001b[0;34m.\u001b[0m\u001b[0mstrftime\u001b[0m\u001b[0;34m(\u001b[0m\u001b[0mt\u001b[0m\u001b[0;34m,\u001b[0m \u001b[0;34m'%H:%M'\u001b[0m\u001b[0;34m)\u001b[0m\u001b[0;34m\u001b[0m\u001b[0;34m\u001b[0m\u001b[0m\n\u001b[0m\u001b[1;32m      2\u001b[0m \u001b[0mnew_t\u001b[0m\u001b[0;34m\u001b[0m\u001b[0;34m\u001b[0m\u001b[0m\n",
      "\u001b[0;31mTypeError\u001b[0m: descriptor 'strftime' requires a 'datetime.date' object but received a 'datetime.timedelta'"
     ]
    }
   ],
   "source": [
    "new_t = dt.datetime.strftime(t, '%H:%M')"
   ]
  },
  {
   "cell_type": "code",
   "execution_count": 45,
   "metadata": {},
   "outputs": [
    {
     "ename": "AttributeError",
     "evalue": "'datetime.timedelta' object has no attribute 'strftime'",
     "output_type": "error",
     "traceback": [
      "\u001b[0;31m---------------------------------------------------------------------------\u001b[0m",
      "\u001b[0;31mAttributeError\u001b[0m                            Traceback (most recent call last)",
      "\u001b[0;32m<ipython-input-45-1d7d79245202>\u001b[0m in \u001b[0;36m<module>\u001b[0;34m\u001b[0m\n\u001b[0;32m----> 1\u001b[0;31m \u001b[0mnew_t\u001b[0m \u001b[0;34m=\u001b[0m \u001b[0mt\u001b[0m\u001b[0;34m.\u001b[0m\u001b[0mstrftime\u001b[0m\u001b[0;34m(\u001b[0m\u001b[0;34m\"%H:%M\"\u001b[0m\u001b[0;34m)\u001b[0m\u001b[0;34m\u001b[0m\u001b[0;34m\u001b[0m\u001b[0m\n\u001b[0m\u001b[1;32m      2\u001b[0m \u001b[0mnew_t\u001b[0m\u001b[0;34m\u001b[0m\u001b[0;34m\u001b[0m\u001b[0m\n",
      "\u001b[0;31mAttributeError\u001b[0m: 'datetime.timedelta' object has no attribute 'strftime'"
     ]
    }
   ],
   "source": [
    "new_t = t.strftime(\"%H:%M\")\n",
    "new_t"
   ]
  },
  {
   "cell_type": "code",
   "execution_count": 31,
   "metadata": {},
   "outputs": [
    {
     "data": {
      "text/plain": [
       "'18:05'"
      ]
     },
     "execution_count": 31,
     "metadata": {},
     "output_type": "execute_result"
    }
   ],
   "source": [
    "arr[2]"
   ]
  },
  {
   "cell_type": "code",
   "execution_count": 32,
   "metadata": {},
   "outputs": [
    {
     "data": {
      "text/plain": [
       "'06:24'"
      ]
     },
     "execution_count": 32,
     "metadata": {},
     "output_type": "execute_result"
    }
   ],
   "source": [
    "arr[3]"
   ]
  },
  {
   "cell_type": "code",
   "execution_count": 34,
   "metadata": {},
   "outputs": [
    {
     "data": {
      "text/plain": [
       "['18', '05']"
      ]
     },
     "execution_count": 34,
     "metadata": {},
     "output_type": "execute_result"
    }
   ],
   "source": [
    "date1 = arr[2].split(\":\")\n",
    "date1"
   ]
  },
  {
   "cell_type": "code",
   "execution_count": 48,
   "metadata": {},
   "outputs": [
    {
     "ename": "AttributeError",
     "evalue": "module 'datetime' has no attribute 'strptime'",
     "output_type": "error",
     "traceback": [
      "\u001b[0;31m---------------------------------------------------------------------------\u001b[0m",
      "\u001b[0;31mAttributeError\u001b[0m                            Traceback (most recent call last)",
      "\u001b[0;32m<ipython-input-48-5866887de8de>\u001b[0m in \u001b[0;36m<module>\u001b[0;34m\u001b[0m\n\u001b[0;32m----> 1\u001b[0;31m \u001b[0marr\u001b[0m\u001b[0;34m.\u001b[0m\u001b[0msort\u001b[0m\u001b[0;34m(\u001b[0m\u001b[0mkey\u001b[0m \u001b[0;34m=\u001b[0m \u001b[0;32mlambda\u001b[0m \u001b[0mtime\u001b[0m\u001b[0;34m:\u001b[0m \u001b[0mdt\u001b[0m\u001b[0;34m.\u001b[0m\u001b[0mstrptime\u001b[0m\u001b[0;34m(\u001b[0m\u001b[0mtime\u001b[0m\u001b[0;34m,\u001b[0m \u001b[0;34m\"%H:%M\"\u001b[0m\u001b[0;34m)\u001b[0m\u001b[0;34m)\u001b[0m\u001b[0;34m\u001b[0m\u001b[0;34m\u001b[0m\u001b[0m\n\u001b[0m",
      "\u001b[0;32m<ipython-input-48-5866887de8de>\u001b[0m in \u001b[0;36m<lambda>\u001b[0;34m(time)\u001b[0m\n\u001b[0;32m----> 1\u001b[0;31m \u001b[0marr\u001b[0m\u001b[0;34m.\u001b[0m\u001b[0msort\u001b[0m\u001b[0;34m(\u001b[0m\u001b[0mkey\u001b[0m \u001b[0;34m=\u001b[0m \u001b[0;32mlambda\u001b[0m \u001b[0mtime\u001b[0m\u001b[0;34m:\u001b[0m \u001b[0mdt\u001b[0m\u001b[0;34m.\u001b[0m\u001b[0mstrptime\u001b[0m\u001b[0;34m(\u001b[0m\u001b[0mtime\u001b[0m\u001b[0;34m,\u001b[0m \u001b[0;34m\"%H:%M\"\u001b[0m\u001b[0;34m)\u001b[0m\u001b[0;34m)\u001b[0m\u001b[0;34m\u001b[0m\u001b[0;34m\u001b[0m\u001b[0m\n\u001b[0m",
      "\u001b[0;31mAttributeError\u001b[0m: module 'datetime' has no attribute 'strptime'"
     ]
    }
   ],
   "source": [
    "arr.sort(key = lambda time: dt.strptime(time, \"%H:%M\")) "
   ]
  },
  {
   "cell_type": "code",
   "execution_count": 49,
   "metadata": {},
   "outputs": [
    {
     "ename": "TypeError",
     "evalue": "'<' not supported between instances of 'map' and 'map'",
     "output_type": "error",
     "traceback": [
      "\u001b[0;31m---------------------------------------------------------------------------\u001b[0m",
      "\u001b[0;31mTypeError\u001b[0m                                 Traceback (most recent call last)",
      "\u001b[0;32m<ipython-input-49-3eade3a60bda>\u001b[0m in \u001b[0;36m<module>\u001b[0;34m\u001b[0m\n\u001b[0;32m----> 1\u001b[0;31m \u001b[0msorted\u001b[0m\u001b[0;34m(\u001b[0m\u001b[0marr\u001b[0m\u001b[0;34m,\u001b[0m \u001b[0mkey\u001b[0m\u001b[0;34m=\u001b[0m\u001b[0;32mlambda\u001b[0m \u001b[0md\u001b[0m\u001b[0;34m:\u001b[0m \u001b[0mmap\u001b[0m\u001b[0;34m(\u001b[0m\u001b[0mint\u001b[0m\u001b[0;34m,\u001b[0m \u001b[0md\u001b[0m\u001b[0;34m.\u001b[0m\u001b[0msplit\u001b[0m\u001b[0;34m(\u001b[0m\u001b[0;34m':'\u001b[0m\u001b[0;34m)\u001b[0m\u001b[0;34m)\u001b[0m\u001b[0;34m)\u001b[0m\u001b[0;34m\u001b[0m\u001b[0;34m\u001b[0m\u001b[0m\n\u001b[0m",
      "\u001b[0;31mTypeError\u001b[0m: '<' not supported between instances of 'map' and 'map'"
     ]
    }
   ],
   "source": [
    "sorted(arr, key=lambda d: map(int, d.split(':')))"
   ]
  },
  {
   "cell_type": "code",
   "execution_count": 53,
   "metadata": {},
   "outputs": [],
   "source": [
    "import time\n",
    "\n",
    "new_arr = sorted((time.strptime(d, \"%H:%M\") for d in arr), reverse=True)"
   ]
  },
  {
   "cell_type": "code",
   "execution_count": 54,
   "metadata": {},
   "outputs": [
    {
     "data": {
      "text/plain": [
       "[time.struct_time(tm_year=1900, tm_mon=1, tm_mday=1, tm_hour=23, tm_min=0, tm_sec=0, tm_wday=0, tm_yday=1, tm_isdst=-1),\n",
       " time.struct_time(tm_year=1900, tm_mon=1, tm_mday=1, tm_hour=18, tm_min=5, tm_sec=0, tm_wday=0, tm_yday=1, tm_isdst=-1),\n",
       " time.struct_time(tm_year=1900, tm_mon=1, tm_mday=1, tm_hour=6, tm_min=24, tm_sec=0, tm_wday=0, tm_yday=1, tm_isdst=-1),\n",
       " time.struct_time(tm_year=1900, tm_mon=1, tm_mday=1, tm_hour=4, tm_min=22, tm_sec=0, tm_wday=0, tm_yday=1, tm_isdst=-1)]"
      ]
     },
     "execution_count": 54,
     "metadata": {},
     "output_type": "execute_result"
    }
   ],
   "source": [
    "new_arr"
   ]
  },
  {
   "cell_type": "code",
   "execution_count": 58,
   "metadata": {},
   "outputs": [
    {
     "data": {
      "text/plain": [
       "time.struct_time(tm_year=1900, tm_mon=1, tm_mday=1, tm_hour=23, tm_min=0, tm_sec=0, tm_wday=0, tm_yday=1, tm_isdst=-1)"
      ]
     },
     "execution_count": 58,
     "metadata": {},
     "output_type": "execute_result"
    }
   ],
   "source": [
    "new_arr[0]"
   ]
  },
  {
   "cell_type": "code",
   "execution_count": 59,
   "metadata": {},
   "outputs": [
    {
     "data": {
      "text/plain": [
       "time.struct_time"
      ]
     },
     "execution_count": 59,
     "metadata": {},
     "output_type": "execute_result"
    }
   ],
   "source": [
    "type(new_arr[0])"
   ]
  },
  {
   "cell_type": "code",
   "execution_count": 63,
   "metadata": {},
   "outputs": [
    {
     "ename": "AttributeError",
     "evalue": "module 'datetime' has no attribute 'strptime'",
     "output_type": "error",
     "traceback": [
      "\u001b[0;31m---------------------------------------------------------------------------\u001b[0m",
      "\u001b[0;31mAttributeError\u001b[0m                            Traceback (most recent call last)",
      "\u001b[0;32m<ipython-input-63-ef8663f2a266>\u001b[0m in \u001b[0;36m<module>\u001b[0;34m\u001b[0m\n\u001b[0;32m----> 1\u001b[0;31m \u001b[0mnew_arr\u001b[0m \u001b[0;34m=\u001b[0m \u001b[0msorted\u001b[0m\u001b[0;34m(\u001b[0m\u001b[0;34m(\u001b[0m\u001b[0mdt\u001b[0m\u001b[0;34m.\u001b[0m\u001b[0mstrptime\u001b[0m\u001b[0;34m(\u001b[0m\u001b[0md\u001b[0m\u001b[0;34m,\u001b[0m \u001b[0;34m\"%H:%M\"\u001b[0m\u001b[0;34m)\u001b[0m \u001b[0;32mfor\u001b[0m \u001b[0md\u001b[0m \u001b[0;32min\u001b[0m \u001b[0marr\u001b[0m\u001b[0;34m)\u001b[0m\u001b[0;34m,\u001b[0m \u001b[0mreverse\u001b[0m\u001b[0;34m=\u001b[0m\u001b[0;32mTrue\u001b[0m\u001b[0;34m)\u001b[0m\u001b[0;34m\u001b[0m\u001b[0;34m\u001b[0m\u001b[0m\n\u001b[0m",
      "\u001b[0;32m<ipython-input-63-ef8663f2a266>\u001b[0m in \u001b[0;36m<genexpr>\u001b[0;34m(.0)\u001b[0m\n\u001b[0;32m----> 1\u001b[0;31m \u001b[0mnew_arr\u001b[0m \u001b[0;34m=\u001b[0m \u001b[0msorted\u001b[0m\u001b[0;34m(\u001b[0m\u001b[0;34m(\u001b[0m\u001b[0mdt\u001b[0m\u001b[0;34m.\u001b[0m\u001b[0mstrptime\u001b[0m\u001b[0;34m(\u001b[0m\u001b[0md\u001b[0m\u001b[0;34m,\u001b[0m \u001b[0;34m\"%H:%M\"\u001b[0m\u001b[0;34m)\u001b[0m \u001b[0;32mfor\u001b[0m \u001b[0md\u001b[0m \u001b[0;32min\u001b[0m \u001b[0marr\u001b[0m\u001b[0;34m)\u001b[0m\u001b[0;34m,\u001b[0m \u001b[0mreverse\u001b[0m\u001b[0;34m=\u001b[0m\u001b[0;32mTrue\u001b[0m\u001b[0;34m)\u001b[0m\u001b[0;34m\u001b[0m\u001b[0;34m\u001b[0m\u001b[0m\n\u001b[0m",
      "\u001b[0;31mAttributeError\u001b[0m: module 'datetime' has no attribute 'strptime'"
     ]
    }
   ],
   "source": [
    "new_arr = sorted((dt.strptime(d, \"%H:%M\") for d in arr), reverse=True)"
   ]
  },
  {
   "cell_type": "code",
   "execution_count": 67,
   "metadata": {},
   "outputs": [
    {
     "data": {
      "text/plain": [
       "15720"
      ]
     },
     "execution_count": 67,
     "metadata": {},
     "output_type": "execute_result"
    }
   ],
   "source": [
    "(h, m) = arr[1].split(':')\n",
    "result = int(h) * 3600 + int(m) * 60\n",
    "result"
   ]
  },
  {
   "cell_type": "code",
   "execution_count": 69,
   "metadata": {},
   "outputs": [
    {
     "data": {
      "text/plain": [
       "['23', '00']"
      ]
     },
     "execution_count": 69,
     "metadata": {},
     "output_type": "execute_result"
    }
   ],
   "source": [
    "arr[0].split(':')"
   ]
  },
  {
   "cell_type": "code",
   "execution_count": 159,
   "metadata": {},
   "outputs": [
    {
     "name": "stdout",
     "output_type": "stream",
     "text": [
      "21:14\n",
      "15:34\n",
      "14:51\n",
      "06:25\n",
      "15:30\n"
     ]
    }
   ],
   "source": [
    "for i in arr:\n",
    "    print(i)"
   ]
  },
  {
   "cell_type": "code",
   "execution_count": 153,
   "metadata": {},
   "outputs": [
    {
     "data": {
      "text/plain": [
       "[76440, 56040, 53460, 23100, 55800]"
      ]
     },
     "execution_count": 153,
     "metadata": {},
     "output_type": "execute_result"
    }
   ],
   "source": [
    "new_arr = []\n",
    "for i in range(0, len(arr)):\n",
    "    (h, m) = arr[i].split(':')\n",
    "    result = int(h) * 3600 + int(m) * 60\n",
    "    new_arr.append(result)\n",
    "new_arr"
   ]
  },
  {
   "cell_type": "code",
   "execution_count": 154,
   "metadata": {},
   "outputs": [
    {
     "data": {
      "text/plain": [
       "[23100, 53460, 55800, 56040, 76440]"
      ]
     },
     "execution_count": 154,
     "metadata": {},
     "output_type": "execute_result"
    }
   ],
   "source": [
    "sorted_arr = sorted(new_arr)\n",
    "sorted_arr"
   ]
  },
  {
   "cell_type": "code",
   "execution_count": 209,
   "metadata": {},
   "outputs": [
    {
     "data": {
      "text/plain": [
       "33060"
      ]
     },
     "execution_count": 209,
     "metadata": {},
     "output_type": "execute_result"
    }
   ],
   "source": [
    "top = 86400 - 76440 + 23100\n",
    "top"
   ]
  },
  {
   "cell_type": "code",
   "execution_count": 206,
   "metadata": {},
   "outputs": [
    {
     "data": {
      "text/plain": [
       "86400"
      ]
     },
     "execution_count": 206,
     "metadata": {},
     "output_type": "execute_result"
    }
   ],
   "source": [
    "86400"
   ]
  },
  {
   "cell_type": "code",
   "execution_count": 155,
   "metadata": {},
   "outputs": [
    {
     "data": {
      "text/plain": [
       "20400"
      ]
     },
     "execution_count": 155,
     "metadata": {},
     "output_type": "execute_result"
    }
   ],
   "source": [
    "top = 0\n",
    "for i in range(0, len(sorted_arr)-1):\n",
    "    diff = sorted_arr[i+1] - sorted_arr[i]\n",
    "    top = diff\n",
    "top"
   ]
  },
  {
   "cell_type": "code",
   "execution_count": 160,
   "metadata": {},
   "outputs": [
    {
     "data": {
      "text/plain": [
       "30360"
      ]
     },
     "execution_count": 160,
     "metadata": {},
     "output_type": "execute_result"
    }
   ],
   "source": [
    "top = 0\n",
    "for i in range(0, len(sorted_arr)-1):\n",
    "    diff = sorted_arr[i+1] - sorted_arr[i]\n",
    "    if diff > top:\n",
    "        top = diff\n",
    "top"
   ]
  },
  {
   "cell_type": "code",
   "execution_count": 210,
   "metadata": {},
   "outputs": [
    {
     "data": {
      "text/plain": [
       "9.183333333333334"
      ]
     },
     "execution_count": 210,
     "metadata": {},
     "output_type": "execute_result"
    }
   ],
   "source": [
    "top / 3600"
   ]
  },
  {
   "cell_type": "code",
   "execution_count": 211,
   "metadata": {},
   "outputs": [
    {
     "data": {
      "text/plain": [
       "9"
      ]
     },
     "execution_count": 211,
     "metadata": {},
     "output_type": "execute_result"
    }
   ],
   "source": [
    "h = top // 3600\n",
    "h"
   ]
  },
  {
   "cell_type": "code",
   "execution_count": 212,
   "metadata": {},
   "outputs": [
    {
     "data": {
      "text/plain": [
       "0.18333333333333357"
      ]
     },
     "execution_count": 212,
     "metadata": {},
     "output_type": "execute_result"
    }
   ],
   "source": [
    "(top/3600 - h)"
   ]
  },
  {
   "cell_type": "code",
   "execution_count": 213,
   "metadata": {},
   "outputs": [
    {
     "data": {
      "text/plain": [
       "11"
      ]
     },
     "execution_count": 213,
     "metadata": {},
     "output_type": "execute_result"
    }
   ],
   "source": [
    "m = (top/3600 - h) * 60\n",
    "int(m)"
   ]
  },
  {
   "cell_type": "code",
   "execution_count": 214,
   "metadata": {},
   "outputs": [
    {
     "data": {
      "text/plain": [
       "'9:11.000000000000014'"
      ]
     },
     "execution_count": 214,
     "metadata": {},
     "output_type": "execute_result"
    }
   ],
   "source": [
    "str(h) + ':' + str(m)"
   ]
  },
  {
   "cell_type": "code",
   "execution_count": 215,
   "metadata": {},
   "outputs": [
    {
     "name": "stdout",
     "output_type": "stream",
     "text": [
      "9:11\n"
     ]
    }
   ],
   "source": [
    "time = top / 3600\n",
    "\n",
    "hours = int(time)\n",
    "minutes = (time*60) % 60\n",
    "\n",
    "print(\"%d:%02d\" % (hours, minutes))"
   ]
  },
  {
   "cell_type": "code",
   "execution_count": 112,
   "metadata": {},
   "outputs": [],
   "source": [
    "def solve(arr):\n",
    "    new_arr = []\n",
    "    for i in range(0, len(arr)):\n",
    "        (h, m) = arr[i].split(':')\n",
    "        result = int(h) * 3600 + int(m) * 60\n",
    "        new_arr.append(result)\n",
    "    sorted_arr = sorted(new_arr)    \n",
    "    top = 0\n",
    "    for i in range(0, len(sorted_arr)-1):\n",
    "        diff = sorted_arr[i+1] - sorted_arr[i]\n",
    "        if diff > top:\n",
    "            top = diff\n",
    "    time = top / 3600\n",
    "    hours = int(time)\n",
    "    minutes = (time*60) % 60\n",
    "    return(\"%d:%02d\" % (hours, minutes))"
   ]
  },
  {
   "cell_type": "code",
   "execution_count": 113,
   "metadata": {},
   "outputs": [
    {
     "data": {
      "text/plain": [
       "'11:41'"
      ]
     },
     "execution_count": 113,
     "metadata": {},
     "output_type": "execute_result"
    }
   ],
   "source": [
    "# Need to solve for list of one!\n",
    "solve([\"23:00\",\"04:22\",\"18:05\",\"06:24\"])"
   ]
  },
  {
   "cell_type": "code",
   "execution_count": 140,
   "metadata": {},
   "outputs": [],
   "source": [
    "def solve(arr):\n",
    "    if len(arr) == 1:\n",
    "        return \"23:59\"\n",
    "    else:\n",
    "        new_arr = []\n",
    "        for i in range(0, len(arr)):\n",
    "            (h, m) = arr[i].split(':')\n",
    "            result = int(h) * 3600 + int(m) * 60\n",
    "            new_arr.append(result)\n",
    "        sorted_arr = sorted(new_arr)    \n",
    "        top = 0\n",
    "        for i in range(0, len(sorted_arr)-1):\n",
    "            diff = sorted_arr[i+1] - sorted_arr[i]\n",
    "            if diff > top:\n",
    "                top = diff\n",
    "        time = top / 3600\n",
    "        hours = int(time)\n",
    "        minutes = (time*60) % 60\n",
    "        return(\"%d:%02d\" % (hours, minutes))"
   ]
  },
  {
   "cell_type": "code",
   "execution_count": 141,
   "metadata": {},
   "outputs": [
    {
     "data": {
      "text/plain": [
       "'23:59'"
      ]
     },
     "execution_count": 141,
     "metadata": {},
     "output_type": "execute_result"
    }
   ],
   "source": [
    "solve([\"14:51\"])"
   ]
  },
  {
   "cell_type": "code",
   "execution_count": 142,
   "metadata": {},
   "outputs": [
    {
     "data": {
      "text/plain": [
       "'11:41'"
      ]
     },
     "execution_count": 142,
     "metadata": {},
     "output_type": "execute_result"
    }
   ],
   "source": [
    "# Missing the one minute!\n",
    "solve([\"23:00\",\"04:22\",\"18:05\",\"06:24\"])"
   ]
  },
  {
   "cell_type": "code",
   "execution_count": 120,
   "metadata": {},
   "outputs": [],
   "source": [
    "# For some reason here, thinking of a different kata, I decided to find the \n",
    "# max interval AND the min interval!\n",
    "def solve(arr):\n",
    "    if len(arr) == 1:\n",
    "        return \"23:59\"\n",
    "    else:\n",
    "        new_arr = []\n",
    "        for i in range(0, len(arr)):\n",
    "            (h, m) = arr[i].split(':')\n",
    "            result = int(h) * 3600 + int(m) * 60\n",
    "            new_arr.append(result)\n",
    "        sorted_arr = sorted(new_arr)    \n",
    "        top = 0\n",
    "        bottom = 86,400\n",
    "        for i in range(0, len(sorted_arr)-1):\n",
    "            diff = sorted_arr[i+1] - sorted_arr[i]\n",
    "            if diff > top:\n",
    "                top = diff\n",
    "            if diff < bottom:\n",
    "                bottom = diff\n",
    "        top_time = top / 3600\n",
    "        t_hours = int(top_time)\n",
    "        t_minutes = (top_time*60) % 60\n",
    "        bot_time = bottom / 3600\n",
    "        b_hours = int(bot_time)\n",
    "        b_minutes = (bot_time*60) % 60\n",
    "        return(\"%d:%02d\" % (t_hours, t_minutes), \"%d:%02d\" % (b_hours, b_minutes))"
   ]
  },
  {
   "cell_type": "code",
   "execution_count": 143,
   "metadata": {},
   "outputs": [],
   "source": [
    "def solve(arr):\n",
    "    if len(arr) == 1:\n",
    "        return \"23:59\"\n",
    "    else:\n",
    "        new_arr = []\n",
    "        for i in range(0, len(arr)):\n",
    "            (h, m) = arr[i].split(':')\n",
    "            result = int(h) * 3600 + int(m) * 60\n",
    "            new_arr.append(result)\n",
    "        sorted_arr = sorted(new_arr)    \n",
    "        \n",
    "        top = 0\n",
    "        for i in range(0, len(sorted_arr)-1):\n",
    "            diff = sorted_arr[i+1] - sorted_arr[i]\n",
    "            if diff > top:\n",
    "                top = diff\n",
    "        top_time = top / 3600\n",
    "        t_hours = int(top_time)\n",
    "        t_minutes = (top_time*60) % 60\n",
    "        max_int = \"%d:%02d\" % (t_hours, t_minutes)\n",
    "        \n",
    "        bottom = 86400\n",
    "        for i in range(0, len(sorted_arr)-1):\n",
    "            diff = sorted_arr[i+1] - sorted_arr[i]\n",
    "            if diff < bottom:\n",
    "                bottom = diff\n",
    "        bot_time = bottom / 3600\n",
    "        b_hours = int(bot_time)\n",
    "        b_minutes = (bot_time*60) % 60\n",
    "        min_int = \"%d:%02d\" % (b_hours, b_minutes)\n",
    "        \n",
    "        return max_int, min_int"
   ]
  },
  {
   "cell_type": "code",
   "execution_count": 144,
   "metadata": {},
   "outputs": [
    {
     "data": {
      "text/plain": [
       "'23:59'"
      ]
     },
     "execution_count": 144,
     "metadata": {},
     "output_type": "execute_result"
    }
   ],
   "source": [
    "solve([\"14:51\"])"
   ]
  },
  {
   "cell_type": "code",
   "execution_count": 145,
   "metadata": {},
   "outputs": [
    {
     "data": {
      "text/plain": [
       "('11:41', '2:02')"
      ]
     },
     "execution_count": 145,
     "metadata": {},
     "output_type": "execute_result"
    }
   ],
   "source": [
    "solve([\"23:00\",\"04:22\",\"18:05\",\"06:24\"])"
   ]
  },
  {
   "cell_type": "code",
   "execution_count": 167,
   "metadata": {},
   "outputs": [
    {
     "data": {
      "text/plain": [
       "'8:26'"
      ]
     },
     "execution_count": 167,
     "metadata": {},
     "output_type": "execute_result"
    }
   ],
   "source": [
    "solve([\"21:14\", \"15:34\", \"14:51\", \"06:25\", \"15:30\"]) #\"09:10\""
   ]
  },
  {
   "cell_type": "code",
   "execution_count": 200,
   "metadata": {},
   "outputs": [],
   "source": [
    "def solve(arr):\n",
    "    if len(arr) == 1:\n",
    "        return \"23:59\"\n",
    "    else:\n",
    "        new_arr = []\n",
    "        for i in range(0, len(arr)):\n",
    "            (h, m) = arr[i].split(':')\n",
    "            result = int(h) * 3600 + int(m) * 60\n",
    "            new_arr.append(result)\n",
    "        sorted_arr = sorted(new_arr)    \n",
    "        top = 0\n",
    "        for i in range(0, len(sorted_arr)-1):\n",
    "            diff = sorted_arr[i+1] - sorted_arr[i]\n",
    "            if diff > top:\n",
    "                top = diff\n",
    "        time = top / 3600\n",
    "        hours = int(time)\n",
    "        minutes = (time*60) % 60 - 1\n",
    "        return(\"%d:%02d\" % (hours, minutes))"
   ]
  },
  {
   "cell_type": "code",
   "execution_count": 220,
   "metadata": {},
   "outputs": [
    {
     "data": {
      "text/plain": [
       "'09:10'"
      ]
     },
     "execution_count": 220,
     "metadata": {},
     "output_type": "execute_result"
    }
   ],
   "source": [
    "# Need to put in correct '00:00' format\n",
    "solve([\"21:14\", \"15:34\", \"14:51\", \"06:25\", \"15:30\"]) #\"09:10\""
   ]
  },
  {
   "cell_type": "code",
   "execution_count": 218,
   "metadata": {},
   "outputs": [
    {
     "data": {
      "text/plain": [
       "'11:40'"
      ]
     },
     "execution_count": 218,
     "metadata": {},
     "output_type": "execute_result"
    }
   ],
   "source": [
    "solve([\"23:00\",\"04:22\",\"18:05\",\"06:24\"])"
   ]
  },
  {
   "cell_type": "code",
   "execution_count": 240,
   "metadata": {},
   "outputs": [],
   "source": [
    "def solve(arr):\n",
    "    if len(arr) == 1:\n",
    "        return \"23:59\"\n",
    "    else:\n",
    "        new_arr = []\n",
    "        for i in range(0, len(arr)):\n",
    "            (h, m) = arr[i].split(':')\n",
    "            result = int(h) * 3600 + int(m) * 60\n",
    "            new_arr.append(result)\n",
    "        sorted_arr = sorted(new_arr)    \n",
    "        max_int = 86400 - sorted_arr[-1] + sorted_arr[0]\n",
    "        for i in range(0, len(sorted_arr)-1):\n",
    "            diff = sorted_arr[i+1] - sorted_arr[i]\n",
    "            if diff > max_int :\n",
    "                max_int  = diff  \n",
    "        time = max_int / 3600\n",
    "        print(time)\n",
    "        hours = int(time)\n",
    "        print(hours)\n",
    "        minutes = (time*60) % 60 - 1\n",
    "        print(minutes)\n",
    "        return(\"%02d:%02d\" % (hours, minutes))"
   ]
  },
  {
   "cell_type": "code",
   "execution_count": 243,
   "metadata": {},
   "outputs": [
    {
     "name": "stdout",
     "output_type": "stream",
     "text": [
      "2.0\n",
      "2\n"
     ]
    },
    {
     "data": {
      "text/plain": [
       "'01:59'"
      ]
     },
     "execution_count": 243,
     "metadata": {},
     "output_type": "execute_result"
    }
   ],
   "source": [
    "solve([\"00:00\",'02:00',\"03:00\",\"04:00\",'05:00',\"06:00\",\"07:00\",'08:00',\"09:00\",\"10:00\",'11:00','12:00',\n",
    "      \"13:00\",\"14:00\",'15:00',\"16:00\",\"17:00\",'18:00',\"19:00\",\"20:00\",'21:00',\"22:00\",\"23:00\"])"
   ]
  },
  {
   "cell_type": "code",
   "execution_count": null,
   "metadata": {},
   "outputs": [],
   "source": [
    "# Error code\n",
    "#'02:-1' should equal '01:59'"
   ]
  },
  {
   "cell_type": "code",
   "execution_count": 245,
   "metadata": {},
   "outputs": [],
   "source": [
    "# Finally, this one worked!\n",
    "def solve(arr):\n",
    "    if len(arr) == 1:\n",
    "        return \"23:59\"\n",
    "    else:\n",
    "        new_arr = []\n",
    "        for i in range(0, len(arr)):\n",
    "            (h, m) = arr[i].split(':')\n",
    "            result = int(h) * 3600 + int(m) * 60\n",
    "            new_arr.append(result)\n",
    "        sorted_arr = sorted(new_arr)    \n",
    "        max_int = 86400 - sorted_arr[-1] + sorted_arr[0]\n",
    "        for i in range(0, len(sorted_arr)-1):\n",
    "            diff = sorted_arr[i+1] - sorted_arr[i]\n",
    "            if diff > max_int :\n",
    "                max_int  = diff  \n",
    "        time = max_int / 3600\n",
    "        hours = int(time)\n",
    "        minutes = (time*60) % 60\n",
    "        if minutes == 0:\n",
    "            return \"%02d:%02d\" % (hours - 1, 59)\n",
    "        else:\n",
    "            return(\"%02d:%02d\" % (hours, minutes - 1))"
   ]
  },
  {
   "cell_type": "code",
   "execution_count": 246,
   "metadata": {},
   "outputs": [
    {
     "data": {
      "text/plain": [
       "'11:40'"
      ]
     },
     "execution_count": 246,
     "metadata": {},
     "output_type": "execute_result"
    }
   ],
   "source": [
    "solve([\"23:00\",\"04:22\",\"18:05\",\"06:24\"]) #'11:40'"
   ]
  },
  {
   "cell_type": "code",
   "execution_count": 247,
   "metadata": {},
   "outputs": [
    {
     "data": {
      "text/plain": [
       "'09:10'"
      ]
     },
     "execution_count": 247,
     "metadata": {},
     "output_type": "execute_result"
    }
   ],
   "source": [
    "solve([\"21:14\", \"15:34\", \"14:51\", \"06:25\", \"15:30\"]) #\"09:10\""
   ]
  },
  {
   "cell_type": "code",
   "execution_count": null,
   "metadata": {},
   "outputs": [],
   "source": []
  },
  {
   "cell_type": "markdown",
   "metadata": {},
   "source": [
    "# Solutions"
   ]
  },
  {
   "cell_type": "code",
   "execution_count": null,
   "metadata": {},
   "outputs": [],
   "source": [
    "def solve(arr):\n",
    "    arr = sorted(int(m[:2]) * 60 + int(m[3:]) for m in set(arr))\n",
    "    arr += [arr[0] + 1440]\n",
    "    h, m = divmod(max(arr[i + 1] - arr[i] - 1 for i in range(len(arr) - 1)), 60)\n",
    "    return \"{:02}:{:02}\".format(h, m)"
   ]
  },
  {
   "cell_type": "code",
   "execution_count": null,
   "metadata": {},
   "outputs": [],
   "source": [
    "from datetime import datetime\n",
    "\n",
    "def solve(arr):\n",
    "    dts = [datetime(2000, 1, 1, *map(int, x.split(':'))) for x in sorted(arr)]\n",
    "    delta = max(int((b - a).total_seconds() - 60) for a, b in zip(dts, dts[1:] + [dts[0].replace(day=2)]))\n",
    "    return '{:02}:{:02}'.format(*divmod(delta//60, 60))"
   ]
  },
  {
   "cell_type": "code",
   "execution_count": null,
   "metadata": {},
   "outputs": [],
   "source": [
    "def solve(arr):\n",
    "    m = sorted(int(t[:2])*60 + int(t[-2:]) for t in arr)\n",
    "    difs = [m[i+1] - m[i] - 1 for i in range(len(m)-1)]\n",
    "    difs.append(1440 - m[-1] + m[0] - 1)\n",
    "    maxd = max(difs)\n",
    "    return f\"{str(maxd//60).zfill(2)}:{str(maxd%60).zfill(2)}\""
   ]
  },
  {
   "cell_type": "code",
   "execution_count": null,
   "metadata": {},
   "outputs": [],
   "source": [
    "def solve(arr): \n",
    "    times = sorted(int(x[:2]) * 60 + int(x[3:]) for x in set(arr))\n",
    "    max_time = 24*60 + times[0] - times[-1] - 1\n",
    "    for t1, t2 in zip(times, times[1:]):\n",
    "        if t2 - t1 -1 > max_time: \n",
    "            max_time = t2 - t1 -1\n",
    "    return f\"{max_time // 60 :02}:{max_time % 60 :02}\""
   ]
  }
 ],
 "metadata": {
  "kernelspec": {
   "display_name": "learn-env",
   "language": "python",
   "name": "learn-env"
  },
  "language_info": {
   "codemirror_mode": {
    "name": "ipython",
    "version": 3
   },
   "file_extension": ".py",
   "mimetype": "text/x-python",
   "name": "python",
   "nbconvert_exporter": "python",
   "pygments_lexer": "ipython3",
   "version": "3.6.9"
  },
  "toc": {
   "base_numbering": 1,
   "nav_menu": {},
   "number_sections": true,
   "sideBar": true,
   "skip_h1_title": false,
   "title_cell": "Table of Contents",
   "title_sidebar": "Contents",
   "toc_cell": false,
   "toc_position": {},
   "toc_section_display": true,
   "toc_window_display": false
  }
 },
 "nbformat": 4,
 "nbformat_minor": 4
}
